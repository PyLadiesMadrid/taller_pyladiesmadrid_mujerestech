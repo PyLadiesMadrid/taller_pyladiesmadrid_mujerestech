{
 "cells": [
  {
   "cell_type": "markdown",
   "metadata": {
    "slideshow": {
     "slide_type": "slide"
    }
   },
   "source": [
    "\n",
    "# 002 - PyLadies Madrid\n",
    "\n",
    "\n",
    "# \"Tipos de datos\n",
    "# y operaciones básicas\"\n",
    "\n",
    "\n",
    "&nbsp;  \n",
    "\n",
    "<div style=\"text-align: center\">Equipo Organizador PyLadies Madrid</div>\n",
    "\n",
    "&nbsp; \n",
    "\n",
    "<center><img src=\"../images/pyladiesmadrid_alargado.png\"  style=\"width:220px;\"/> </center>\n"
   ]
  },
  {
   "cell_type": "markdown",
   "metadata": {
    "slideshow": {
     "slide_type": "slide"
    }
   },
   "source": [
    "## ¿Quiénes somos?\n",
    "\n",
    "\n",
    "&nbsp; \n",
    "\n",
    "Organización PyLadies Madrid y de este Taller:\n",
    "* [Mabel Delgado](https://twitter.com/mabeldelgadob)  \n",
    "* [María Medina](https://twitter.com/mariamedp)\n",
    "* [Alicia Pérez](https://twitter.com/alipeji)\n",
    "* [Vicky Cortés](https://twitter.com/vickycmcv)\n",
    "\n",
    "\n",
    "&nbsp; "
   ]
  },
  {
   "cell_type": "markdown",
   "metadata": {
    "slideshow": {
     "slide_type": "subslide"
    }
   },
   "source": [
    "<center><img src=\"../images/quienes_somos.png\"  style=\"width:800px;\"/> </center>"
   ]
  },
  {
   "cell_type": "markdown",
   "metadata": {
    "slideshow": {
     "slide_type": "slide"
    }
   },
   "source": [
    "## En esta presentación...\n",
    "\n",
    "&nbsp; \n",
    "\n",
    "* Tipos de datos: integer, float, boolean, list, set, dict, ...\n",
    "* Operaciones básicas \n",
    "\n",
    "&nbsp; \n",
    "\n",
    "<center><img src=\"../images/logo_python_letras.png\" width=280px></center>"
   ]
  },
  {
   "cell_type": "markdown",
   "metadata": {
    "slideshow": {
     "slide_type": "subslide"
    }
   },
   "source": [
    "### Tipos de datos: \n",
    "\n",
    "#####  integer\n",
    "\n",
    "```PYTHON\n",
    "a = 1\n",
    "```\n",
    "\n",
    "#####  string\n",
    "\n",
    "```PYTHON\n",
    "a = 3.45\n",
    "```\n",
    "\n",
    "##### float \n",
    "\n",
    "```PYTHON\n",
    "a = 3.56\n",
    "```\n"
   ]
  },
  {
   "cell_type": "markdown",
   "metadata": {
    "slideshow": {
     "slide_type": "subslide"
    }
   },
   "source": [
    "### Tipos de datos: \n",
    "\n",
    "##### boolean \n",
    "\n",
    "```PYTHON\n",
    "a = True\n",
    "b = False\n",
    "```\n",
    "\n",
    "##### list \n",
    "\n",
    "```PYTHON\n",
    "a = [1, '3', 'a',True] \n",
    "b = [1, 2, 2, 1]\n",
    "```"
   ]
  },
  {
   "cell_type": "markdown",
   "metadata": {
    "slideshow": {
     "slide_type": "subslide"
    }
   },
   "source": [
    "### Tipos de datos: \n",
    "\n",
    "##### tuple \n",
    "\n",
    "```PYTHON\n",
    "a = (1, '3', 'a', True)\n",
    "b = (1, 2, 2, 1)\n",
    "```\n",
    "\n",
    "##### set \n",
    "\n",
    "```PYTHON\n",
    "a = {1, '3', 'a', True}\n",
    "b = {1, 2}\n",
    "```"
   ]
  },
  {
   "cell_type": "markdown",
   "metadata": {
    "slideshow": {
     "slide_type": "subslide"
    }
   },
   "source": [
    "### Tipos de datos: \n",
    "\n",
    "##### dict\n",
    "```PYTHON\n",
    "a = {'edad': 18, 'altura': 1.80, 'puesto': 'alero', \n",
    "     'equipo' : None}  \n",
    "```\n"
   ]
  },
  {
   "cell_type": "markdown",
   "metadata": {
    "slideshow": {
     "slide_type": "subslide"
    }
   },
   "source": [
    "### Operaciones básicas\n",
    "\n",
    "##### Operadores aritméticos (+, -, \\*, /, **, %, //)\n",
    "```PYTHON\n",
    "a = 3/2\n",
    "b = 4 * 'a'\n",
    "c = (15**2 - 2)/4\n",
    "```\n",
    "\n",
    "##### Operadores de comparación (==, !=, >, <, >=, <=)\n",
    "```PYTHON\n",
    "a = 7\n",
    "b = 3\n",
    "res = (a!=b)\n",
    "```\n"
   ]
  },
  {
   "cell_type": "markdown",
   "metadata": {
    "slideshow": {
     "slide_type": "subslide"
    }
   },
   "source": [
    "### Operaciones básicas\n",
    "\n",
    "##### Operadores de asignación (= , +=, -=, *=, /=, %=, **=, //=)\n",
    "```PYTHON\n",
    "a = 15\n",
    "b = None \n",
    "a, b = b, a\n",
    "a += 15\n",
    "```\n",
    "\n",
    "##### Otros operadores (and, or, in, not in, is, not is...)\n",
    "```PYTHON\n",
    "a = 5\n",
    "a is None\n",
    "b = [10, 3, 5, 7]\n",
    "a in b\n",
    "```"
   ]
  },
  {
   "cell_type": "markdown",
   "metadata": {
    "slideshow": {
     "slide_type": "slide"
    }
   },
   "source": [
    "## ¿Y ahora?\n",
    "\n",
    "* Practicar.\n",
    "* Preguntar.\n",
    "* Investigar y leer documentación.\n",
    "\n",
    "&nbsp;  \n"
   ]
  },
  {
   "cell_type": "code",
   "execution_count": 1,
   "metadata": {
    "slideshow": {
     "slide_type": "skip"
    }
   },
   "outputs": [
    {
     "data": {
      "text/html": [
       "<link href='http://fonts.googleapis.com/css?family=Source+Sans+Pro|Josefin+Sans:400,700,400italic|Ubuntu+Condensed' rel='stylesheet' type='text/css'>\n",
       "\n",
       "\n",
       "<style>\n",
       "\n",
       "#notebook_panel { /* main background */\n",
       "    background: #f7f7f7;\n",
       "}\n",
       "\n",
       "#notebook li { /* More space between bullet points */\n",
       "    margin-top:0.5em;\n",
       "}\n",
       "\n",
       "div.cell { /* set cell width */\n",
       "    width: 900px;\n",
       "}\n",
       "\n",
       "div #notebook { /* centre the content */\n",
       "    background: #fff; /* white background for content */\n",
       "    width: 1000px;\n",
       "    margin: auto;\n",
       "    padding-left: 0em;\n",
       "}\n",
       "\n",
       "/* Put a solid color box around each cell and its output, visually linking them*/\n",
       "div.cell.code_cell {\n",
       "    font-family: 'Source Sans Pro', sans-serif;\n",
       "    width: 900px;\n",
       "}\n",
       "\n",
       "div.text_cell_render{\n",
       "    font-family: 'Josefin Sans', serif;\n",
       "    font-size: 18pt;\n",
       "}\n",
       "\n",
       "\n",
       "/* Formatting for header cells */\n",
       ".text_cell_render h1, .text_cell_render h2, .text_cell_render h3,\n",
       ".text_cell_render h4, .text_cell_render h5 {\n",
       "    font-family: 'Ubuntu Condensed', sans-serif;\n",
       "}\n",
       "\n",
       ".text_cell_render h1 {    /*Use this for Title*/\n",
       "    font-weight: 500;\n",
       "    font-size: 38pt;\n",
       "    line-height: 100%;\n",
       "    color: #004E8D;\n",
       "    text-align: center;\n",
       "    margin-bottom: 0.1em;\n",
       "    margin-top: 0.3em;\n",
       "    display: block;\n",
       "}\n",
       "\n",
       ".text_cell_render h2 {    /*Use this for Subtitle*/\n",
       "    margin-top:16px;\n",
       "    font-size: 32pt;\n",
       "    font-weight: 500;\n",
       "    margin-bottom: 0.1em;\n",
       "    margin-top: 0.3em;\n",
       "    text-align: center;\n",
       "    font-style: regular;\n",
       "    color: #252525;\n",
       "}\t\n",
       "\n",
       ".text_cell_render h3 {   /*Date*/ \n",
       "    font-size: 26pt;\n",
       "    font-weight: 200;\n",
       "    text-align: center;\n",
       "    margin-bottom: 0.1em;\n",
       "    margin-top: 0.3em;\n",
       "    font-style: regular;\n",
       "    color:  #252525;\n",
       "}\n",
       "\n",
       ".text_cell_render h4 {    /*Sections*/ \n",
       "    font-size: 28pt;\n",
       "    font-weight: 200;\n",
       "    text-align: left;\n",
       "    margin-bottom: 0.1em;\n",
       "    margin-top: 0.3em;\n",
       "    font-style: regular;\n",
       "    color:  #252525;\n",
       "}\n",
       "\n",
       ".text_cell_render h5 {    /*Subsections*/\n",
       "    font-size: 20pt;\n",
       "    font-weight: 300;\n",
       "    font-style: italic;\n",
       "    margin-bottom: .1em;\n",
       "    margin-top: 0.8em;\n",
       "    display: block;\n",
       "    color:  #004E8D;\n",
       "}\n",
       "\n",
       ".text_cell_render h6 {    /*Author*/\n",
       "    font-family: 'Ubuntu Condensed', sans-serif;\n",
       "    font-weight: 100;\n",
       "    font-size: 17pt;\n",
       "    line-height: 100%;\n",
       "    color: #AC4811;\n",
       "    text-align: right;\n",
       "    margin-bottom: 1px;\n",
       "    margin-top: 3px;\n",
       "}\n",
       "\n",
       ".CodeMirror{\n",
       "        font-family: 'Duru Sans', sans-serif;\n",
       "        font-size: 100%;\n",
       "}\n",
       "\n",
       "</style>\n",
       "<script>\n",
       "    MathJax.Hub.Config({\n",
       "                        TeX: {\n",
       "                           extensions: [\"AMSmath.js\"],\n",
       "                           equationNumbers: { autoNumber: \"AMS\", useLabelIds: true}\n",
       "                           },\n",
       "                tex2jax: {\n",
       "                    inlineMath: [ ['$','$'], [\"\\\\(\",\"\\\\)\"] ],\n",
       "                    displayMath: [ ['$$','$$'], [\"\\\\[\",\"\\\\]\"] ]\n",
       "                },\n",
       "                displayAlign: 'center', // Change this to 'center' to center equations.\n",
       "                \"HTML-CSS\": {\n",
       "                    styles: {'.MathJax_Display': {\"margin\": 4}}\n",
       "                }\n",
       "        });\n",
       "</script>\n"
      ],
      "text/plain": [
       "<IPython.core.display.HTML object>"
      ]
     },
     "execution_count": 1,
     "metadata": {},
     "output_type": "execute_result"
    }
   ],
   "source": [
    "# preserve\n",
    "from IPython.core.display import HTML\n",
    "css_file = 'styles/style.css'\n",
    "HTML(open(css_file, \"r\").read())"
   ]
  }
 ],
 "metadata": {
  "celltoolbar": "Slideshow",
  "kernelspec": {
   "display_name": "Python 3",
   "language": "python",
   "name": "python3"
  },
  "language_info": {
   "codemirror_mode": {
    "name": "ipython",
    "version": 3
   },
   "file_extension": ".py",
   "mimetype": "text/x-python",
   "name": "python",
   "nbconvert_exporter": "python",
   "pygments_lexer": "ipython3",
   "version": "3.7.0"
  }
 },
 "nbformat": 4,
 "nbformat_minor": 2
}
