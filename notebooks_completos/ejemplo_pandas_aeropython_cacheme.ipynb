{
 "cells": [
  {
   "cell_type": "markdown",
   "metadata": {},
   "source": [
    "<img src=\"../images/pyladiesmadrid_alargado.png\" style=\"width: 500px;\"/>"
   ]
  },
  {
   "cell_type": "markdown",
   "metadata": {},
   "source": [
    "Notebook basado en: https://github.com/CAChemE/python-analisis-modelado-datos/blob/master/notebooks/0101_Pandas-Carga-datos-y-manipulacion.ipynb realizado por Juan Luis Cano, Álex Sáez y Mabel Delgado, con MIT License"
   ]
  },
  {
   "cell_type": "markdown",
   "metadata": {},
   "source": [
    "---"
   ]
  },
  {
   "cell_type": "markdown",
   "metadata": {},
   "source": [
    "# Pandas: Carga y manipulación básica de datos"
   ]
  },
  {
   "cell_type": "markdown",
   "metadata": {},
   "source": [
    "_Hasta ahora hemos visto las diferentes estructuras para almacenamiento de datos que nos ofrece Python, como; integer, real, complex, boolen, list, tuple, dictionary... Sin embargo, también se pueden utilizar arrays a través del paquete `NumPy`, , y otros tipos de estructuras._\n",
    "\n",
    "_En este notebook, vamos a presentar y empezar a trabajar con el paquete `pandas`. En concreto, nos basaremos en algunos problemas para ver las características de sus estructuras de datos, y para aprender a cargar datos y empezar a manipularnos._\n",
    "\n",
    "---"
   ]
  },
  {
   "cell_type": "markdown",
   "metadata": {},
   "source": [
    "## ¿Qué es pandas?"
   ]
  },
  {
   "cell_type": "markdown",
   "metadata": {},
   "source": [
    "`pandas` es una libreria que nos proporciona estructuras de datos y herramientas para realizar análisis de grandes volúmenes de datos de manera rápida.\n",
    "\n",
    "Es de gran utilidad en la industria del Big Data, pues un grandísmo porcentaje del tiempo de trabajo de un Data Scientist, está asociado a la limpieza y preparación de los datos (ver [artículo](https://www.forbes.com/sites/gilpress/2016/03/23/data-preparation-most-time-consuming-least-enjoyable-data-science-task-survey-says/#a5231076f637)), y pandas nos ayuda mucho en esta tarea.  "
   ]
  },
  {
   "cell_type": "markdown",
   "metadata": {},
   "source": [
    "De manera estándar y por convenio, pandas se importa de la siguiente forma:"
   ]
  },
  {
   "cell_type": "code",
   "execution_count": 1,
   "metadata": {},
   "outputs": [],
   "source": [
    "import pandas as pd"
   ]
  },
  {
   "cell_type": "markdown",
   "metadata": {},
   "source": [
    "## Cargando los datos"
   ]
  },
  {
   "cell_type": "markdown",
   "metadata": {},
   "source": [
    "Trabajaremos sobre un fichero de datos metereológicos de AEMET obtenido de su portal de datos abiertos (Trabajaremos sobre un fichero de datos metereológicos de [AEMET obtenido de su portal de datos abiertos](https://opendata.aemet.es/centrodedescargas/inicio)"
   ]
  },
  {
   "cell_type": "markdown",
   "metadata": {},
   "source": [
    "Vemos que pinta tiene el fichero:"
   ]
  },
  {
   "cell_type": "code",
   "execution_count": 2,
   "metadata": {},
   "outputs": [
    {
     "name": "stdout",
     "output_type": "stream",
     "text": [
      "created on: Tue Feb 20 01:16:55 2018\r\n",
      "\r\n",
      "dir\tfecha\tindicativo\tnombre\tprec\tpresMax\tpresMin\tprovincia\tracha\tsol\ttmax\ttmed\ttmin\tvelmedia\r\n",
      "14.0\t2015-01-01\t8025\tALICANTE/ALACANT\t0.0\t1027.2\t1019.8\tALICANTE\t4.7\t8.6\t16.0\t9.6\t3.2\t1.4\r\n",
      "19.0\t2015-01-02\t8025\tALICANTE/ALACANT\t0.0\t1028.8\t1025.3\tALICANTE\t4.2\t8.8\t18.1\t10.0\t2.0\t1.1\r\n",
      "99.0\t2015-01-03\t8025\tALICANTE/ALACANT\t0.0\t1027.8\t1022.5\tALICANTE\t7.2\t8.6\t19.5\t11.3\t3.1\t2.2\r\n",
      "6.0\t2015-01-04\t8025\tALICANTE/ALACANT\t0.0\t1022.5\t1020.4\tALICANTE\t6.1\t8.8\t20.3\t13.4\t6.5\t1.7\r\n",
      "99.0\t2015-01-05\t8025\tALICANTE/ALACANT\t0.0\t1021.5\t1017.0\tALICANTE\t4.2\t8.9\t16.9\t10.8\t4.8\t1.1\r\n",
      "7.0\t2015-01-06\t8025\tALICANTE/ALACANT\t0.0\t1018.1\t1014.5\tALICANTE\t5.0\t8.9\t15.6\t9.6\t3.5\t1.1\r\n",
      "12.0\t2015-01-07\t8025\tALICANTE/ALACANT\t0.0\t1023.8\t1018.1\tALICANTE\t4.7\t4.6\t17.2\t11.1\t5.0\t0.8\r\n"
     ]
    }
   ],
   "source": [
    "# en Linux\n",
    "!head ../data/alicante_city_climate_AEMET.csv"
   ]
  },
  {
   "cell_type": "code",
   "execution_count": 3,
   "metadata": {},
   "outputs": [],
   "source": [
    "# en Windows\n",
    "# !more ..\\data\\alicante_city_climate_AEMET.csv"
   ]
  },
  {
   "cell_type": "markdown",
   "metadata": {},
   "source": [
    "Vemos que los datos no están en formato CSV, aunque sí que tienen algo de estructura.\n",
    "\n",
    "¿Qué sucede si intentamos cargarlos con pandas?"
   ]
  },
  {
   "cell_type": "code",
   "execution_count": 4,
   "metadata": {},
   "outputs": [
    {
     "data": {
      "text/html": [
       "<div>\n",
       "<style scoped>\n",
       "    .dataframe tbody tr th:only-of-type {\n",
       "        vertical-align: middle;\n",
       "    }\n",
       "\n",
       "    .dataframe tbody tr th {\n",
       "        vertical-align: top;\n",
       "    }\n",
       "\n",
       "    .dataframe thead th {\n",
       "        text-align: right;\n",
       "    }\n",
       "</style>\n",
       "<table border=\"1\" class=\"dataframe\">\n",
       "  <thead>\n",
       "    <tr style=\"text-align: right;\">\n",
       "      <th></th>\n",
       "      <th>created on: Tue Feb 20 01:16:55 2018</th>\n",
       "    </tr>\n",
       "  </thead>\n",
       "  <tbody>\n",
       "    <tr>\n",
       "      <th>0</th>\n",
       "      <td>dir\\tfecha\\tindicativo\\tnombre\\tprec\\tpresMax\\...</td>\n",
       "    </tr>\n",
       "    <tr>\n",
       "      <th>1</th>\n",
       "      <td>14.0\\t2015-01-01\\t8025\\tALICANTE/ALACANT\\t0.0\\...</td>\n",
       "    </tr>\n",
       "    <tr>\n",
       "      <th>2</th>\n",
       "      <td>19.0\\t2015-01-02\\t8025\\tALICANTE/ALACANT\\t0.0\\...</td>\n",
       "    </tr>\n",
       "    <tr>\n",
       "      <th>3</th>\n",
       "      <td>99.0\\t2015-01-03\\t8025\\tALICANTE/ALACANT\\t0.0\\...</td>\n",
       "    </tr>\n",
       "    <tr>\n",
       "      <th>4</th>\n",
       "      <td>6.0\\t2015-01-04\\t8025\\tALICANTE/ALACANT\\t0.0\\t...</td>\n",
       "    </tr>\n",
       "  </tbody>\n",
       "</table>\n",
       "</div>"
      ],
      "text/plain": [
       "                created on: Tue Feb 20 01:16:55 2018\n",
       "0  dir\\tfecha\\tindicativo\\tnombre\\tprec\\tpresMax\\...\n",
       "1  14.0\\t2015-01-01\\t8025\\tALICANTE/ALACANT\\t0.0\\...\n",
       "2  19.0\\t2015-01-02\\t8025\\tALICANTE/ALACANT\\t0.0\\...\n",
       "3  99.0\\t2015-01-03\\t8025\\tALICANTE/ALACANT\\t0.0\\...\n",
       "4  6.0\\t2015-01-04\\t8025\\tALICANTE/ALACANT\\t0.0\\t..."
      ]
     },
     "execution_count": 4,
     "metadata": {},
     "output_type": "execute_result"
    }
   ],
   "source": [
    "pd.read_csv(\"../data/alicante_city_climate_AEMET.csv\").head(5)"
   ]
  },
  {
   "cell_type": "markdown",
   "metadata": {},
   "source": [
    "Tenemos que hacer los siguientes cambios:\n",
    "* Separar los campos por tabuladores.\n",
    "* Saltar las primeras lineas.\n",
    "* Descartar columnas que no nos interesan.\n",
    "* Dar nombre a las nuevas columnas.\n",
    "* Convertir las fechas al formato correcto.\n",
    "* Definir la fecha como índice."
   ]
  },
  {
   "cell_type": "code",
   "execution_count": 5,
   "metadata": {},
   "outputs": [
    {
     "data": {
      "text/html": [
       "<div>\n",
       "<style scoped>\n",
       "    .dataframe tbody tr th:only-of-type {\n",
       "        vertical-align: middle;\n",
       "    }\n",
       "\n",
       "    .dataframe tbody tr th {\n",
       "        vertical-align: top;\n",
       "    }\n",
       "\n",
       "    .dataframe thead th {\n",
       "        text-align: right;\n",
       "    }\n",
       "</style>\n",
       "<table border=\"1\" class=\"dataframe\">\n",
       "  <thead>\n",
       "    <tr style=\"text-align: right;\">\n",
       "      <th></th>\n",
       "      <th>DIR</th>\n",
       "      <th>NAME</th>\n",
       "      <th>PRECIP</th>\n",
       "      <th>PMAX</th>\n",
       "      <th>PMIN</th>\n",
       "      <th>MAG_MAX</th>\n",
       "      <th>TMAX</th>\n",
       "      <th>TMED</th>\n",
       "      <th>TMIN</th>\n",
       "      <th>MAG_MED</th>\n",
       "    </tr>\n",
       "    <tr>\n",
       "      <th>DATE</th>\n",
       "      <th></th>\n",
       "      <th></th>\n",
       "      <th></th>\n",
       "      <th></th>\n",
       "      <th></th>\n",
       "      <th></th>\n",
       "      <th></th>\n",
       "      <th></th>\n",
       "      <th></th>\n",
       "      <th></th>\n",
       "    </tr>\n",
       "  </thead>\n",
       "  <tbody>\n",
       "    <tr>\n",
       "      <th>2015-01-01</th>\n",
       "      <td>14.0</td>\n",
       "      <td>ALICANTE/ALACANT</td>\n",
       "      <td>0.0</td>\n",
       "      <td>1027.2</td>\n",
       "      <td>1019.8</td>\n",
       "      <td>4.7</td>\n",
       "      <td>16.0</td>\n",
       "      <td>9.6</td>\n",
       "      <td>3.2</td>\n",
       "      <td>1.4</td>\n",
       "    </tr>\n",
       "    <tr>\n",
       "      <th>2015-01-02</th>\n",
       "      <td>19.0</td>\n",
       "      <td>ALICANTE/ALACANT</td>\n",
       "      <td>0.0</td>\n",
       "      <td>1028.8</td>\n",
       "      <td>1025.3</td>\n",
       "      <td>4.2</td>\n",
       "      <td>18.1</td>\n",
       "      <td>10.0</td>\n",
       "      <td>2.0</td>\n",
       "      <td>1.1</td>\n",
       "    </tr>\n",
       "    <tr>\n",
       "      <th>2015-01-03</th>\n",
       "      <td>99.0</td>\n",
       "      <td>ALICANTE/ALACANT</td>\n",
       "      <td>0.0</td>\n",
       "      <td>1027.8</td>\n",
       "      <td>1022.5</td>\n",
       "      <td>7.2</td>\n",
       "      <td>19.5</td>\n",
       "      <td>11.3</td>\n",
       "      <td>3.1</td>\n",
       "      <td>2.2</td>\n",
       "    </tr>\n",
       "    <tr>\n",
       "      <th>2015-01-04</th>\n",
       "      <td>6.0</td>\n",
       "      <td>ALICANTE/ALACANT</td>\n",
       "      <td>0.0</td>\n",
       "      <td>1022.5</td>\n",
       "      <td>1020.4</td>\n",
       "      <td>6.1</td>\n",
       "      <td>20.3</td>\n",
       "      <td>13.4</td>\n",
       "      <td>6.5</td>\n",
       "      <td>1.7</td>\n",
       "    </tr>\n",
       "    <tr>\n",
       "      <th>2015-01-05</th>\n",
       "      <td>99.0</td>\n",
       "      <td>ALICANTE/ALACANT</td>\n",
       "      <td>0.0</td>\n",
       "      <td>1021.5</td>\n",
       "      <td>1017.0</td>\n",
       "      <td>4.2</td>\n",
       "      <td>16.9</td>\n",
       "      <td>10.8</td>\n",
       "      <td>4.8</td>\n",
       "      <td>1.1</td>\n",
       "    </tr>\n",
       "  </tbody>\n",
       "</table>\n",
       "</div>"
      ],
      "text/plain": [
       "             DIR              NAME  PRECIP    PMAX    PMIN  MAG_MAX  TMAX  \\\n",
       "DATE                                                                        \n",
       "2015-01-01  14.0  ALICANTE/ALACANT     0.0  1027.2  1019.8      4.7  16.0   \n",
       "2015-01-02  19.0  ALICANTE/ALACANT     0.0  1028.8  1025.3      4.2  18.1   \n",
       "2015-01-03  99.0  ALICANTE/ALACANT     0.0  1027.8  1022.5      7.2  19.5   \n",
       "2015-01-04   6.0  ALICANTE/ALACANT     0.0  1022.5  1020.4      6.1  20.3   \n",
       "2015-01-05  99.0  ALICANTE/ALACANT     0.0  1021.5  1017.0      4.2  16.9   \n",
       "\n",
       "            TMED  TMIN  MAG_MED  \n",
       "DATE                             \n",
       "2015-01-01   9.6   3.2      1.4  \n",
       "2015-01-02  10.0   2.0      1.1  \n",
       "2015-01-03  11.3   3.1      2.2  \n",
       "2015-01-04  13.4   6.5      1.7  \n",
       "2015-01-05  10.8   4.8      1.1  "
      ]
     },
     "execution_count": 5,
     "metadata": {},
     "output_type": "execute_result"
    }
   ],
   "source": [
    "data = pd.read_csv(\n",
    "    \"../data/alicante_city_climate_AEMET.csv\",\n",
    "    skiprows=3,\n",
    "    delimiter='\\t',\n",
    "    usecols=[0, 1, 3, 4, 5, 6, 8, 10, 11, 12, 13],\n",
    "    names=['DIR', 'DATE', 'NAME', 'PRECIP', 'PMAX', 'PMIN', 'MAG_MAX', 'TMAX', 'TMED', 'TMIN', 'MAG_MED'],\n",
    "    parse_dates=['DATE'],\n",
    "    index_col=['DATE']\n",
    "    )\n",
    "\n",
    "data.head()"
   ]
  },
  {
   "cell_type": "markdown",
   "metadata": {},
   "source": [
    "<div class=\"alert alert-info\">Para acordarnos de cómo parsear las fechas: http://strftime.org/</div>"
   ]
  },
  {
   "cell_type": "markdown",
   "metadata": {},
   "source": [
    "## Explorando los datos"
   ]
  },
  {
   "cell_type": "code",
   "execution_count": 6,
   "metadata": {},
   "outputs": [
    {
     "data": {
      "text/plain": [
       "DIR        float64\n",
       "NAME        object\n",
       "PRECIP     float64\n",
       "PMAX       float64\n",
       "PMIN       float64\n",
       "MAG_MAX    float64\n",
       "TMAX       float64\n",
       "TMED       float64\n",
       "TMIN       float64\n",
       "MAG_MED    float64\n",
       "dtype: object"
      ]
     },
     "execution_count": 6,
     "metadata": {},
     "output_type": "execute_result"
    }
   ],
   "source": [
    "# recuperar los tipos de datos de cada columna\n",
    "data.dtypes"
   ]
  },
  {
   "cell_type": "code",
   "execution_count": 7,
   "metadata": {},
   "outputs": [
    {
     "data": {
      "text/plain": [
       "DatetimeIndex(['2015-01-01', '2015-01-02', '2015-01-03', '2015-01-04',\n",
       "               '2015-01-05', '2015-01-06', '2015-01-07', '2015-01-08',\n",
       "               '2015-01-09', '2015-01-10',\n",
       "               ...\n",
       "               '2017-12-22', '2017-12-23', '2017-12-24', '2017-12-25',\n",
       "               '2017-12-26', '2017-12-27', '2017-12-28', '2017-12-29',\n",
       "               '2017-12-30', '2017-12-31'],\n",
       "              dtype='datetime64[ns]', name='DATE', length=1096, freq=None)"
      ]
     },
     "execution_count": 7,
     "metadata": {},
     "output_type": "execute_result"
    }
   ],
   "source": [
    "# recuperar los índices\n",
    "data.index"
   ]
  },
  {
   "cell_type": "code",
   "execution_count": 8,
   "metadata": {},
   "outputs": [
    {
     "data": {
      "text/html": [
       "<div>\n",
       "<style scoped>\n",
       "    .dataframe tbody tr th:only-of-type {\n",
       "        vertical-align: middle;\n",
       "    }\n",
       "\n",
       "    .dataframe tbody tr th {\n",
       "        vertical-align: top;\n",
       "    }\n",
       "\n",
       "    .dataframe thead th {\n",
       "        text-align: right;\n",
       "    }\n",
       "</style>\n",
       "<table border=\"1\" class=\"dataframe\">\n",
       "  <thead>\n",
       "    <tr style=\"text-align: right;\">\n",
       "      <th></th>\n",
       "      <th>DIR</th>\n",
       "      <th>NAME</th>\n",
       "      <th>PRECIP</th>\n",
       "      <th>PMAX</th>\n",
       "      <th>PMIN</th>\n",
       "      <th>MAG_MAX</th>\n",
       "      <th>TMAX</th>\n",
       "      <th>TMED</th>\n",
       "      <th>TMIN</th>\n",
       "      <th>MAG_MED</th>\n",
       "    </tr>\n",
       "    <tr>\n",
       "      <th>DATE</th>\n",
       "      <th></th>\n",
       "      <th></th>\n",
       "      <th></th>\n",
       "      <th></th>\n",
       "      <th></th>\n",
       "      <th></th>\n",
       "      <th></th>\n",
       "      <th></th>\n",
       "      <th></th>\n",
       "      <th></th>\n",
       "    </tr>\n",
       "  </thead>\n",
       "  <tbody>\n",
       "    <tr>\n",
       "      <th>2015-01-01</th>\n",
       "      <td>14.0</td>\n",
       "      <td>ALICANTE/ALACANT</td>\n",
       "      <td>0.0</td>\n",
       "      <td>1027.2</td>\n",
       "      <td>1019.8</td>\n",
       "      <td>4.7</td>\n",
       "      <td>16.0</td>\n",
       "      <td>9.6</td>\n",
       "      <td>3.2</td>\n",
       "      <td>1.4</td>\n",
       "    </tr>\n",
       "    <tr>\n",
       "      <th>2015-01-02</th>\n",
       "      <td>19.0</td>\n",
       "      <td>ALICANTE/ALACANT</td>\n",
       "      <td>0.0</td>\n",
       "      <td>1028.8</td>\n",
       "      <td>1025.3</td>\n",
       "      <td>4.2</td>\n",
       "      <td>18.1</td>\n",
       "      <td>10.0</td>\n",
       "      <td>2.0</td>\n",
       "      <td>1.1</td>\n",
       "    </tr>\n",
       "    <tr>\n",
       "      <th>2015-01-03</th>\n",
       "      <td>99.0</td>\n",
       "      <td>ALICANTE/ALACANT</td>\n",
       "      <td>0.0</td>\n",
       "      <td>1027.8</td>\n",
       "      <td>1022.5</td>\n",
       "      <td>7.2</td>\n",
       "      <td>19.5</td>\n",
       "      <td>11.3</td>\n",
       "      <td>3.1</td>\n",
       "      <td>2.2</td>\n",
       "    </tr>\n",
       "    <tr>\n",
       "      <th>2015-01-04</th>\n",
       "      <td>6.0</td>\n",
       "      <td>ALICANTE/ALACANT</td>\n",
       "      <td>0.0</td>\n",
       "      <td>1022.5</td>\n",
       "      <td>1020.4</td>\n",
       "      <td>6.1</td>\n",
       "      <td>20.3</td>\n",
       "      <td>13.4</td>\n",
       "      <td>6.5</td>\n",
       "      <td>1.7</td>\n",
       "    </tr>\n",
       "  </tbody>\n",
       "</table>\n",
       "</div>"
      ],
      "text/plain": [
       "             DIR              NAME  PRECIP    PMAX    PMIN  MAG_MAX  TMAX  \\\n",
       "DATE                                                                        \n",
       "2015-01-01  14.0  ALICANTE/ALACANT     0.0  1027.2  1019.8      4.7  16.0   \n",
       "2015-01-02  19.0  ALICANTE/ALACANT     0.0  1028.8  1025.3      4.2  18.1   \n",
       "2015-01-03  99.0  ALICANTE/ALACANT     0.0  1027.8  1022.5      7.2  19.5   \n",
       "2015-01-04   6.0  ALICANTE/ALACANT     0.0  1022.5  1020.4      6.1  20.3   \n",
       "\n",
       "            TMED  TMIN  MAG_MED  \n",
       "DATE                             \n",
       "2015-01-01   9.6   3.2      1.4  \n",
       "2015-01-02  10.0   2.0      1.1  \n",
       "2015-01-03  11.3   3.1      2.2  \n",
       "2015-01-04  13.4   6.5      1.7  "
      ]
     },
     "execution_count": 8,
     "metadata": {},
     "output_type": "execute_result"
    }
   ],
   "source": [
    "# Muestro solo las primers 4 líneas\n",
    "data.head(4)"
   ]
  },
  {
   "cell_type": "code",
   "execution_count": 9,
   "metadata": {},
   "outputs": [
    {
     "data": {
      "text/html": [
       "<div>\n",
       "<style scoped>\n",
       "    .dataframe tbody tr th:only-of-type {\n",
       "        vertical-align: middle;\n",
       "    }\n",
       "\n",
       "    .dataframe tbody tr th {\n",
       "        vertical-align: top;\n",
       "    }\n",
       "\n",
       "    .dataframe thead th {\n",
       "        text-align: right;\n",
       "    }\n",
       "</style>\n",
       "<table border=\"1\" class=\"dataframe\">\n",
       "  <thead>\n",
       "    <tr style=\"text-align: right;\">\n",
       "      <th></th>\n",
       "      <th>DIR</th>\n",
       "      <th>NAME</th>\n",
       "      <th>PRECIP</th>\n",
       "      <th>PMAX</th>\n",
       "      <th>PMIN</th>\n",
       "      <th>MAG_MAX</th>\n",
       "      <th>TMAX</th>\n",
       "      <th>TMED</th>\n",
       "      <th>TMIN</th>\n",
       "      <th>MAG_MED</th>\n",
       "    </tr>\n",
       "    <tr>\n",
       "      <th>DATE</th>\n",
       "      <th></th>\n",
       "      <th></th>\n",
       "      <th></th>\n",
       "      <th></th>\n",
       "      <th></th>\n",
       "      <th></th>\n",
       "      <th></th>\n",
       "      <th></th>\n",
       "      <th></th>\n",
       "      <th></th>\n",
       "    </tr>\n",
       "  </thead>\n",
       "  <tbody>\n",
       "    <tr>\n",
       "      <th>2017-12-26</th>\n",
       "      <td>31.0</td>\n",
       "      <td>ALICANTE/ALACANT</td>\n",
       "      <td>0.0</td>\n",
       "      <td>1012.7</td>\n",
       "      <td>1003.2</td>\n",
       "      <td>9.7</td>\n",
       "      <td>19.4</td>\n",
       "      <td>13.3</td>\n",
       "      <td>7.2</td>\n",
       "      <td>2.8</td>\n",
       "    </tr>\n",
       "    <tr>\n",
       "      <th>2017-12-27</th>\n",
       "      <td>30.0</td>\n",
       "      <td>ALICANTE/ALACANT</td>\n",
       "      <td>0.0</td>\n",
       "      <td>1004.0</td>\n",
       "      <td>994.6</td>\n",
       "      <td>18.6</td>\n",
       "      <td>17.5</td>\n",
       "      <td>14.0</td>\n",
       "      <td>10.5</td>\n",
       "      <td>4.7</td>\n",
       "    </tr>\n",
       "    <tr>\n",
       "      <th>2017-12-28</th>\n",
       "      <td>31.0</td>\n",
       "      <td>ALICANTE/ALACANT</td>\n",
       "      <td>0.0</td>\n",
       "      <td>1005.9</td>\n",
       "      <td>999.6</td>\n",
       "      <td>12.5</td>\n",
       "      <td>22.6</td>\n",
       "      <td>16.6</td>\n",
       "      <td>10.7</td>\n",
       "      <td>2.5</td>\n",
       "    </tr>\n",
       "    <tr>\n",
       "      <th>2017-12-29</th>\n",
       "      <td>27.0</td>\n",
       "      <td>ALICANTE/ALACANT</td>\n",
       "      <td>0.0</td>\n",
       "      <td>1016.3</td>\n",
       "      <td>1005.8</td>\n",
       "      <td>14.2</td>\n",
       "      <td>21.5</td>\n",
       "      <td>18.0</td>\n",
       "      <td>14.4</td>\n",
       "      <td>2.8</td>\n",
       "    </tr>\n",
       "    <tr>\n",
       "      <th>2017-12-30</th>\n",
       "      <td>28.0</td>\n",
       "      <td>ALICANTE/ALACANT</td>\n",
       "      <td>0.0</td>\n",
       "      <td>1016.9</td>\n",
       "      <td>1013.5</td>\n",
       "      <td>9.2</td>\n",
       "      <td>24.0</td>\n",
       "      <td>17.0</td>\n",
       "      <td>10.1</td>\n",
       "      <td>2.8</td>\n",
       "    </tr>\n",
       "    <tr>\n",
       "      <th>2017-12-31</th>\n",
       "      <td>28.0</td>\n",
       "      <td>ALICANTE/ALACANT</td>\n",
       "      <td>0.0</td>\n",
       "      <td>1018.1</td>\n",
       "      <td>1010.1</td>\n",
       "      <td>16.4</td>\n",
       "      <td>18.7</td>\n",
       "      <td>13.3</td>\n",
       "      <td>7.9</td>\n",
       "      <td>2.5</td>\n",
       "    </tr>\n",
       "  </tbody>\n",
       "</table>\n",
       "</div>"
      ],
      "text/plain": [
       "             DIR              NAME  PRECIP    PMAX    PMIN  MAG_MAX  TMAX  \\\n",
       "DATE                                                                        \n",
       "2017-12-26  31.0  ALICANTE/ALACANT     0.0  1012.7  1003.2      9.7  19.4   \n",
       "2017-12-27  30.0  ALICANTE/ALACANT     0.0  1004.0   994.6     18.6  17.5   \n",
       "2017-12-28  31.0  ALICANTE/ALACANT     0.0  1005.9   999.6     12.5  22.6   \n",
       "2017-12-29  27.0  ALICANTE/ALACANT     0.0  1016.3  1005.8     14.2  21.5   \n",
       "2017-12-30  28.0  ALICANTE/ALACANT     0.0  1016.9  1013.5      9.2  24.0   \n",
       "2017-12-31  28.0  ALICANTE/ALACANT     0.0  1018.1  1010.1     16.4  18.7   \n",
       "\n",
       "            TMED  TMIN  MAG_MED  \n",
       "DATE                             \n",
       "2017-12-26  13.3   7.2      2.8  \n",
       "2017-12-27  14.0  10.5      4.7  \n",
       "2017-12-28  16.6  10.7      2.5  \n",
       "2017-12-29  18.0  14.4      2.8  \n",
       "2017-12-30  17.0  10.1      2.8  \n",
       "2017-12-31  13.3   7.9      2.5  "
      ]
     },
     "execution_count": 9,
     "metadata": {},
     "output_type": "execute_result"
    }
   ],
   "source": [
    "# Muestro sólo las últimas 6 líneas\n",
    "data.tail(6)"
   ]
  },
  {
   "cell_type": "code",
   "execution_count": 12,
   "metadata": {},
   "outputs": [
    {
     "data": {
      "text/plain": [
       "(1096, 10)"
      ]
     },
     "execution_count": 12,
     "metadata": {},
     "output_type": "execute_result"
    }
   ],
   "source": [
    "# Numero de filas y columnas en el dataset\n",
    "data.shape"
   ]
  },
  {
   "cell_type": "code",
   "execution_count": 13,
   "metadata": {},
   "outputs": [
    {
     "data": {
      "text/plain": [
       "DIR        23\n",
       "NAME        0\n",
       "PRECIP     35\n",
       "PMAX        2\n",
       "PMIN        2\n",
       "MAG_MAX    23\n",
       "TMAX        2\n",
       "TMED        2\n",
       "TMIN        2\n",
       "MAG_MED    21\n",
       "dtype: int64"
      ]
     },
     "execution_count": 13,
     "metadata": {},
     "output_type": "execute_result"
    }
   ],
   "source": [
    "# contamos cuantos elementos tenemos sin valor\n",
    "data.isnull().sum()"
   ]
  },
  {
   "cell_type": "code",
   "execution_count": 14,
   "metadata": {},
   "outputs": [
    {
     "data": {
      "text/plain": [
       "DIR        1073\n",
       "NAME       1096\n",
       "PRECIP     1061\n",
       "PMAX       1094\n",
       "PMIN       1094\n",
       "MAG_MAX    1073\n",
       "TMAX       1094\n",
       "TMED       1094\n",
       "TMIN       1094\n",
       "MAG_MED    1075\n",
       "dtype: int64"
      ]
     },
     "execution_count": 14,
     "metadata": {},
     "output_type": "execute_result"
    }
   ],
   "source": [
    "# contamos cuantos elementos tenemos con valor\n",
    "data.count(axis=0)"
   ]
  },
  {
   "cell_type": "markdown",
   "metadata": {},
   "source": [
    "### Descripción estadística"
   ]
  },
  {
   "cell_type": "markdown",
   "metadata": {},
   "source": [
    "Se pueden pedir los datos estadísticos asociados al dataframe."
   ]
  },
  {
   "cell_type": "code",
   "execution_count": 15,
   "metadata": {},
   "outputs": [
    {
     "data": {
      "text/html": [
       "<div>\n",
       "<style scoped>\n",
       "    .dataframe tbody tr th:only-of-type {\n",
       "        vertical-align: middle;\n",
       "    }\n",
       "\n",
       "    .dataframe tbody tr th {\n",
       "        vertical-align: top;\n",
       "    }\n",
       "\n",
       "    .dataframe thead th {\n",
       "        text-align: right;\n",
       "    }\n",
       "</style>\n",
       "<table border=\"1\" class=\"dataframe\">\n",
       "  <thead>\n",
       "    <tr style=\"text-align: right;\">\n",
       "      <th></th>\n",
       "      <th>DIR</th>\n",
       "      <th>PRECIP</th>\n",
       "      <th>PMAX</th>\n",
       "      <th>PMIN</th>\n",
       "      <th>MAG_MAX</th>\n",
       "      <th>TMAX</th>\n",
       "      <th>TMED</th>\n",
       "      <th>TMIN</th>\n",
       "      <th>MAG_MED</th>\n",
       "    </tr>\n",
       "  </thead>\n",
       "  <tbody>\n",
       "    <tr>\n",
       "      <th>count</th>\n",
       "      <td>1073.000000</td>\n",
       "      <td>1061.000000</td>\n",
       "      <td>1094.000000</td>\n",
       "      <td>1094.000000</td>\n",
       "      <td>1073.000000</td>\n",
       "      <td>1094.000000</td>\n",
       "      <td>1094.000000</td>\n",
       "      <td>1094.000000</td>\n",
       "      <td>1075.000000</td>\n",
       "    </tr>\n",
       "    <tr>\n",
       "      <th>mean</th>\n",
       "      <td>20.983225</td>\n",
       "      <td>0.801885</td>\n",
       "      <td>1011.154479</td>\n",
       "      <td>1006.691865</td>\n",
       "      <td>8.047064</td>\n",
       "      <td>24.039488</td>\n",
       "      <td>19.031718</td>\n",
       "      <td>14.022212</td>\n",
       "      <td>2.220279</td>\n",
       "    </tr>\n",
       "    <tr>\n",
       "      <th>std</th>\n",
       "      <td>21.613931</td>\n",
       "      <td>5.249819</td>\n",
       "      <td>6.074767</td>\n",
       "      <td>6.570117</td>\n",
       "      <td>2.833214</td>\n",
       "      <td>5.670956</td>\n",
       "      <td>5.660407</td>\n",
       "      <td>5.952143</td>\n",
       "      <td>0.811738</td>\n",
       "    </tr>\n",
       "    <tr>\n",
       "      <th>min</th>\n",
       "      <td>1.000000</td>\n",
       "      <td>0.000000</td>\n",
       "      <td>988.200000</td>\n",
       "      <td>980.100000</td>\n",
       "      <td>2.800000</td>\n",
       "      <td>8.500000</td>\n",
       "      <td>4.600000</td>\n",
       "      <td>0.300000</td>\n",
       "      <td>0.600000</td>\n",
       "    </tr>\n",
       "    <tr>\n",
       "      <th>25%</th>\n",
       "      <td>8.000000</td>\n",
       "      <td>0.000000</td>\n",
       "      <td>1007.300000</td>\n",
       "      <td>1002.900000</td>\n",
       "      <td>6.100000</td>\n",
       "      <td>19.400000</td>\n",
       "      <td>14.025000</td>\n",
       "      <td>9.100000</td>\n",
       "      <td>1.700000</td>\n",
       "    </tr>\n",
       "    <tr>\n",
       "      <th>50%</th>\n",
       "      <td>14.000000</td>\n",
       "      <td>0.000000</td>\n",
       "      <td>1010.600000</td>\n",
       "      <td>1006.500000</td>\n",
       "      <td>7.200000</td>\n",
       "      <td>23.700000</td>\n",
       "      <td>18.900000</td>\n",
       "      <td>13.800000</td>\n",
       "      <td>2.200000</td>\n",
       "    </tr>\n",
       "    <tr>\n",
       "      <th>75%</th>\n",
       "      <td>24.000000</td>\n",
       "      <td>0.000000</td>\n",
       "      <td>1014.300000</td>\n",
       "      <td>1010.300000</td>\n",
       "      <td>9.700000</td>\n",
       "      <td>28.800000</td>\n",
       "      <td>23.800000</td>\n",
       "      <td>18.775000</td>\n",
       "      <td>2.500000</td>\n",
       "    </tr>\n",
       "    <tr>\n",
       "      <th>max</th>\n",
       "      <td>99.000000</td>\n",
       "      <td>112.200000</td>\n",
       "      <td>1034.000000</td>\n",
       "      <td>1030.000000</td>\n",
       "      <td>19.700000</td>\n",
       "      <td>38.800000</td>\n",
       "      <td>31.400000</td>\n",
       "      <td>27.200000</td>\n",
       "      <td>6.100000</td>\n",
       "    </tr>\n",
       "  </tbody>\n",
       "</table>\n",
       "</div>"
      ],
      "text/plain": [
       "               DIR       PRECIP         PMAX         PMIN      MAG_MAX  \\\n",
       "count  1073.000000  1061.000000  1094.000000  1094.000000  1073.000000   \n",
       "mean     20.983225     0.801885  1011.154479  1006.691865     8.047064   \n",
       "std      21.613931     5.249819     6.074767     6.570117     2.833214   \n",
       "min       1.000000     0.000000   988.200000   980.100000     2.800000   \n",
       "25%       8.000000     0.000000  1007.300000  1002.900000     6.100000   \n",
       "50%      14.000000     0.000000  1010.600000  1006.500000     7.200000   \n",
       "75%      24.000000     0.000000  1014.300000  1010.300000     9.700000   \n",
       "max      99.000000   112.200000  1034.000000  1030.000000    19.700000   \n",
       "\n",
       "              TMAX         TMED         TMIN      MAG_MED  \n",
       "count  1094.000000  1094.000000  1094.000000  1075.000000  \n",
       "mean     24.039488    19.031718    14.022212     2.220279  \n",
       "std       5.670956     5.660407     5.952143     0.811738  \n",
       "min       8.500000     4.600000     0.300000     0.600000  \n",
       "25%      19.400000    14.025000     9.100000     1.700000  \n",
       "50%      23.700000    18.900000    13.800000     2.200000  \n",
       "75%      28.800000    23.800000    18.775000     2.500000  \n",
       "max      38.800000    31.400000    27.200000     6.100000  "
      ]
     },
     "execution_count": 15,
     "metadata": {},
     "output_type": "execute_result"
    }
   ],
   "source": [
    "# Descripción estadística\n",
    "data.describe()"
   ]
  },
  {
   "cell_type": "markdown",
   "metadata": {},
   "source": [
    "Por defecto, los elementos con NA no se tienen en cuenta a la hora de calcular los valores."
   ]
  },
  {
   "cell_type": "code",
   "execution_count": 16,
   "metadata": {},
   "outputs": [
    {
     "data": {
      "text/plain": [
       "DIR          20.983225\n",
       "PRECIP        0.801885\n",
       "PMAX       1011.154479\n",
       "PMIN       1006.691865\n",
       "MAG_MAX       8.047064\n",
       "TMAX         24.039488\n",
       "TMED         19.031718\n",
       "TMIN         14.022212\n",
       "MAG_MED       2.220279\n",
       "dtype: float64"
      ]
     },
     "execution_count": 16,
     "metadata": {},
     "output_type": "execute_result"
    }
   ],
   "source": [
    "# media\n",
    "data.mean()"
   ]
  },
  {
   "cell_type": "markdown",
   "metadata": {},
   "source": [
    "## Accediendo a los datos."
   ]
  },
  {
   "cell_type": "markdown",
   "metadata": {},
   "source": [
    "Tenemos dos funciones principales para acceder a los datos, que son `.loc` que permite acceder por etiquetas, y `.iloc`que permite acceder por índices. "
   ]
  },
  {
   "cell_type": "code",
   "execution_count": 17,
   "metadata": {},
   "outputs": [
    {
     "data": {
      "text/html": [
       "<div>\n",
       "<style scoped>\n",
       "    .dataframe tbody tr th:only-of-type {\n",
       "        vertical-align: middle;\n",
       "    }\n",
       "\n",
       "    .dataframe tbody tr th {\n",
       "        vertical-align: top;\n",
       "    }\n",
       "\n",
       "    .dataframe thead th {\n",
       "        text-align: right;\n",
       "    }\n",
       "</style>\n",
       "<table border=\"1\" class=\"dataframe\">\n",
       "  <thead>\n",
       "    <tr style=\"text-align: right;\">\n",
       "      <th></th>\n",
       "      <th>TMAX</th>\n",
       "    </tr>\n",
       "    <tr>\n",
       "      <th>DATE</th>\n",
       "      <th></th>\n",
       "    </tr>\n",
       "  </thead>\n",
       "  <tbody>\n",
       "    <tr>\n",
       "      <th>2015-01-01</th>\n",
       "      <td>16.0</td>\n",
       "    </tr>\n",
       "    <tr>\n",
       "      <th>2015-01-02</th>\n",
       "      <td>18.1</td>\n",
       "    </tr>\n",
       "    <tr>\n",
       "      <th>2015-01-03</th>\n",
       "      <td>19.5</td>\n",
       "    </tr>\n",
       "    <tr>\n",
       "      <th>2015-01-04</th>\n",
       "      <td>20.3</td>\n",
       "    </tr>\n",
       "    <tr>\n",
       "      <th>2015-01-05</th>\n",
       "      <td>16.9</td>\n",
       "    </tr>\n",
       "  </tbody>\n",
       "</table>\n",
       "</div>"
      ],
      "text/plain": [
       "            TMAX\n",
       "DATE            \n",
       "2015-01-01  16.0\n",
       "2015-01-02  18.1\n",
       "2015-01-03  19.5\n",
       "2015-01-04  20.3\n",
       "2015-01-05  16.9"
      ]
     },
     "execution_count": 17,
     "metadata": {},
     "output_type": "execute_result"
    }
   ],
   "source": [
    "# accediendo a una columna por el nombre (label) y obteniendo un dataframe.\n",
    "data[['TMAX']].head()"
   ]
  },
  {
   "cell_type": "code",
   "execution_count": 18,
   "metadata": {},
   "outputs": [
    {
     "data": {
      "text/html": [
       "<div>\n",
       "<style scoped>\n",
       "    .dataframe tbody tr th:only-of-type {\n",
       "        vertical-align: middle;\n",
       "    }\n",
       "\n",
       "    .dataframe tbody tr th {\n",
       "        vertical-align: top;\n",
       "    }\n",
       "\n",
       "    .dataframe thead th {\n",
       "        text-align: right;\n",
       "    }\n",
       "</style>\n",
       "<table border=\"1\" class=\"dataframe\">\n",
       "  <thead>\n",
       "    <tr style=\"text-align: right;\">\n",
       "      <th></th>\n",
       "      <th>TMAX</th>\n",
       "      <th>TMED</th>\n",
       "    </tr>\n",
       "    <tr>\n",
       "      <th>DATE</th>\n",
       "      <th></th>\n",
       "      <th></th>\n",
       "    </tr>\n",
       "  </thead>\n",
       "  <tbody>\n",
       "    <tr>\n",
       "      <th>2015-01-01</th>\n",
       "      <td>16.0</td>\n",
       "      <td>9.6</td>\n",
       "    </tr>\n",
       "    <tr>\n",
       "      <th>2015-01-02</th>\n",
       "      <td>18.1</td>\n",
       "      <td>10.0</td>\n",
       "    </tr>\n",
       "    <tr>\n",
       "      <th>2015-01-03</th>\n",
       "      <td>19.5</td>\n",
       "      <td>11.3</td>\n",
       "    </tr>\n",
       "    <tr>\n",
       "      <th>2015-01-04</th>\n",
       "      <td>20.3</td>\n",
       "      <td>13.4</td>\n",
       "    </tr>\n",
       "    <tr>\n",
       "      <th>2015-01-05</th>\n",
       "      <td>16.9</td>\n",
       "      <td>10.8</td>\n",
       "    </tr>\n",
       "  </tbody>\n",
       "</table>\n",
       "</div>"
      ],
      "text/plain": [
       "            TMAX  TMED\n",
       "DATE                  \n",
       "2015-01-01  16.0   9.6\n",
       "2015-01-02  18.1  10.0\n",
       "2015-01-03  19.5  11.3\n",
       "2015-01-04  20.3  13.4\n",
       "2015-01-05  16.9  10.8"
      ]
     },
     "execution_count": 18,
     "metadata": {},
     "output_type": "execute_result"
    }
   ],
   "source": [
    "# accediendo a varias columnas por el nombre (label)\n",
    "data[['TMAX', 'TMED']].head()"
   ]
  },
  {
   "cell_type": "code",
   "execution_count": 23,
   "metadata": {},
   "outputs": [
    {
     "data": {
      "text/html": [
       "<div>\n",
       "<style scoped>\n",
       "    .dataframe tbody tr th:only-of-type {\n",
       "        vertical-align: middle;\n",
       "    }\n",
       "\n",
       "    .dataframe tbody tr th {\n",
       "        vertical-align: top;\n",
       "    }\n",
       "\n",
       "    .dataframe thead th {\n",
       "        text-align: right;\n",
       "    }\n",
       "</style>\n",
       "<table border=\"1\" class=\"dataframe\">\n",
       "  <thead>\n",
       "    <tr style=\"text-align: right;\">\n",
       "      <th></th>\n",
       "      <th>TMAX</th>\n",
       "      <th>TMIN</th>\n",
       "    </tr>\n",
       "    <tr>\n",
       "      <th>DATE</th>\n",
       "      <th></th>\n",
       "      <th></th>\n",
       "    </tr>\n",
       "  </thead>\n",
       "  <tbody>\n",
       "    <tr>\n",
       "      <th>2016-12-01</th>\n",
       "      <td>16.5</td>\n",
       "      <td>11.3</td>\n",
       "    </tr>\n",
       "    <tr>\n",
       "      <th>2016-12-03</th>\n",
       "      <td>18.5</td>\n",
       "      <td>7.5</td>\n",
       "    </tr>\n",
       "  </tbody>\n",
       "</table>\n",
       "</div>"
      ],
      "text/plain": [
       "            TMAX  TMIN\n",
       "DATE                  \n",
       "2016-12-01  16.5  11.3\n",
       "2016-12-03  18.5   7.5"
      ]
     },
     "execution_count": 23,
     "metadata": {},
     "output_type": "execute_result"
    }
   ],
   "source": [
    "# accediendo a files y columnas por etiquetas\n",
    "data.loc[[pd.to_datetime(\"2016-12-01\"), pd.to_datetime(\"2016-12-03\")], [\"TMAX\", \"TMIN\"]]"
   ]
  },
  {
   "cell_type": "code",
   "execution_count": 24,
   "metadata": {},
   "outputs": [
    {
     "data": {
      "text/html": [
       "<div>\n",
       "<style scoped>\n",
       "    .dataframe tbody tr th:only-of-type {\n",
       "        vertical-align: middle;\n",
       "    }\n",
       "\n",
       "    .dataframe tbody tr th {\n",
       "        vertical-align: top;\n",
       "    }\n",
       "\n",
       "    .dataframe thead th {\n",
       "        text-align: right;\n",
       "    }\n",
       "</style>\n",
       "<table border=\"1\" class=\"dataframe\">\n",
       "  <thead>\n",
       "    <tr style=\"text-align: right;\">\n",
       "      <th></th>\n",
       "      <th>PRECIP</th>\n",
       "      <th>PMAX</th>\n",
       "    </tr>\n",
       "    <tr>\n",
       "      <th>DATE</th>\n",
       "      <th></th>\n",
       "      <th></th>\n",
       "    </tr>\n",
       "  </thead>\n",
       "  <tbody>\n",
       "    <tr>\n",
       "      <th>2015-01-02</th>\n",
       "      <td>0.0</td>\n",
       "      <td>1028.8</td>\n",
       "    </tr>\n",
       "    <tr>\n",
       "      <th>2015-01-11</th>\n",
       "      <td>0.0</td>\n",
       "      <td>1024.0</td>\n",
       "    </tr>\n",
       "    <tr>\n",
       "      <th>2015-01-04</th>\n",
       "      <td>0.0</td>\n",
       "      <td>1022.5</td>\n",
       "    </tr>\n",
       "  </tbody>\n",
       "</table>\n",
       "</div>"
      ],
      "text/plain": [
       "            PRECIP    PMAX\n",
       "DATE                      \n",
       "2015-01-02     0.0  1028.8\n",
       "2015-01-11     0.0  1024.0\n",
       "2015-01-04     0.0  1022.5"
      ]
     },
     "execution_count": 24,
     "metadata": {},
     "output_type": "execute_result"
    }
   ],
   "source": [
    "# accediendo a filas y columnas por posiciones enteras\n",
    "data.iloc[[1,10,3], [2, 3]]"
   ]
  },
  {
   "cell_type": "markdown",
   "metadata": {},
   "source": [
    "## Filtrado de datos"
   ]
  },
  {
   "cell_type": "code",
   "execution_count": 25,
   "metadata": {},
   "outputs": [
    {
     "data": {
      "text/html": [
       "<div>\n",
       "<style scoped>\n",
       "    .dataframe tbody tr th:only-of-type {\n",
       "        vertical-align: middle;\n",
       "    }\n",
       "\n",
       "    .dataframe tbody tr th {\n",
       "        vertical-align: top;\n",
       "    }\n",
       "\n",
       "    .dataframe thead th {\n",
       "        text-align: right;\n",
       "    }\n",
       "</style>\n",
       "<table border=\"1\" class=\"dataframe\">\n",
       "  <thead>\n",
       "    <tr style=\"text-align: right;\">\n",
       "      <th></th>\n",
       "      <th>DIR</th>\n",
       "      <th>NAME</th>\n",
       "      <th>PRECIP</th>\n",
       "      <th>PMAX</th>\n",
       "      <th>PMIN</th>\n",
       "      <th>MAG_MAX</th>\n",
       "      <th>TMAX</th>\n",
       "      <th>TMED</th>\n",
       "      <th>TMIN</th>\n",
       "      <th>MAG_MED</th>\n",
       "    </tr>\n",
       "    <tr>\n",
       "      <th>DATE</th>\n",
       "      <th></th>\n",
       "      <th></th>\n",
       "      <th></th>\n",
       "      <th></th>\n",
       "      <th></th>\n",
       "      <th></th>\n",
       "      <th></th>\n",
       "      <th></th>\n",
       "      <th></th>\n",
       "      <th></th>\n",
       "    </tr>\n",
       "  </thead>\n",
       "  <tbody>\n",
       "  </tbody>\n",
       "</table>\n",
       "</div>"
      ],
      "text/plain": [
       "Empty DataFrame\n",
       "Columns: [DIR, NAME, PRECIP, PMAX, PMIN, MAG_MAX, TMAX, TMED, TMIN, MAG_MED]\n",
       "Index: []"
      ]
     },
     "execution_count": 25,
     "metadata": {},
     "output_type": "execute_result"
    }
   ],
   "source": [
    "# busco duplicados en las fechas\n",
    "data[data.index.duplicated()]"
   ]
  },
  {
   "cell_type": "code",
   "execution_count": 27,
   "metadata": {},
   "outputs": [
    {
     "data": {
      "text/html": [
       "<div>\n",
       "<style scoped>\n",
       "    .dataframe tbody tr th:only-of-type {\n",
       "        vertical-align: middle;\n",
       "    }\n",
       "\n",
       "    .dataframe tbody tr th {\n",
       "        vertical-align: top;\n",
       "    }\n",
       "\n",
       "    .dataframe thead th {\n",
       "        text-align: right;\n",
       "    }\n",
       "</style>\n",
       "<table border=\"1\" class=\"dataframe\">\n",
       "  <thead>\n",
       "    <tr style=\"text-align: right;\">\n",
       "      <th></th>\n",
       "      <th>DIR</th>\n",
       "      <th>NAME</th>\n",
       "      <th>PRECIP</th>\n",
       "      <th>PMAX</th>\n",
       "      <th>PMIN</th>\n",
       "      <th>MAG_MAX</th>\n",
       "      <th>TMAX</th>\n",
       "      <th>TMED</th>\n",
       "      <th>TMIN</th>\n",
       "      <th>MAG_MED</th>\n",
       "    </tr>\n",
       "    <tr>\n",
       "      <th>DATE</th>\n",
       "      <th></th>\n",
       "      <th></th>\n",
       "      <th></th>\n",
       "      <th></th>\n",
       "      <th></th>\n",
       "      <th></th>\n",
       "      <th></th>\n",
       "      <th></th>\n",
       "      <th></th>\n",
       "      <th></th>\n",
       "    </tr>\n",
       "  </thead>\n",
       "  <tbody>\n",
       "    <tr>\n",
       "      <th>2015-01-18</th>\n",
       "      <td>19.0</td>\n",
       "      <td>ALICANTE/ALACANT</td>\n",
       "      <td>7.0</td>\n",
       "      <td>1012.5</td>\n",
       "      <td>998.5</td>\n",
       "      <td>5.3</td>\n",
       "      <td>14.6</td>\n",
       "      <td>7.4</td>\n",
       "      <td>0.3</td>\n",
       "      <td>1.4</td>\n",
       "    </tr>\n",
       "    <tr>\n",
       "      <th>2015-02-07</th>\n",
       "      <td>16.0</td>\n",
       "      <td>ALICANTE/ALACANT</td>\n",
       "      <td>0.0</td>\n",
       "      <td>1012.7</td>\n",
       "      <td>1004.8</td>\n",
       "      <td>5.6</td>\n",
       "      <td>11.6</td>\n",
       "      <td>6.5</td>\n",
       "      <td>1.4</td>\n",
       "      <td>1.1</td>\n",
       "    </tr>\n",
       "    <tr>\n",
       "      <th>2015-02-08</th>\n",
       "      <td>18.0</td>\n",
       "      <td>ALICANTE/ALACANT</td>\n",
       "      <td>0.0</td>\n",
       "      <td>1013.3</td>\n",
       "      <td>1009.1</td>\n",
       "      <td>7.8</td>\n",
       "      <td>14.4</td>\n",
       "      <td>8.0</td>\n",
       "      <td>1.6</td>\n",
       "      <td>1.9</td>\n",
       "    </tr>\n",
       "    <tr>\n",
       "      <th>2015-02-09</th>\n",
       "      <td>7.0</td>\n",
       "      <td>ALICANTE/ALACANT</td>\n",
       "      <td>0.4</td>\n",
       "      <td>1016.3</td>\n",
       "      <td>1009.9</td>\n",
       "      <td>11.4</td>\n",
       "      <td>13.2</td>\n",
       "      <td>7.4</td>\n",
       "      <td>1.7</td>\n",
       "      <td>3.3</td>\n",
       "    </tr>\n",
       "    <tr>\n",
       "      <th>2016-01-17</th>\n",
       "      <td>19.0</td>\n",
       "      <td>ALICANTE/ALACANT</td>\n",
       "      <td>0.0</td>\n",
       "      <td>1019.7</td>\n",
       "      <td>1011.1</td>\n",
       "      <td>5.0</td>\n",
       "      <td>15.0</td>\n",
       "      <td>8.0</td>\n",
       "      <td>1.0</td>\n",
       "      <td>1.4</td>\n",
       "    </tr>\n",
       "    <tr>\n",
       "      <th>2017-01-18</th>\n",
       "      <td>7.0</td>\n",
       "      <td>ALICANTE/ALACANT</td>\n",
       "      <td>16.4</td>\n",
       "      <td>1010.1</td>\n",
       "      <td>1007.9</td>\n",
       "      <td>8.9</td>\n",
       "      <td>8.5</td>\n",
       "      <td>4.6</td>\n",
       "      <td>0.6</td>\n",
       "      <td>1.9</td>\n",
       "    </tr>\n",
       "    <tr>\n",
       "      <th>2017-12-04</th>\n",
       "      <td>11.0</td>\n",
       "      <td>ALICANTE/ALACANT</td>\n",
       "      <td>0.0</td>\n",
       "      <td>1026.3</td>\n",
       "      <td>1020.1</td>\n",
       "      <td>4.7</td>\n",
       "      <td>15.1</td>\n",
       "      <td>8.1</td>\n",
       "      <td>1.1</td>\n",
       "      <td>1.4</td>\n",
       "    </tr>\n",
       "    <tr>\n",
       "      <th>2017-12-05</th>\n",
       "      <td>22.0</td>\n",
       "      <td>ALICANTE/ALACANT</td>\n",
       "      <td>0.0</td>\n",
       "      <td>1027.2</td>\n",
       "      <td>1024.8</td>\n",
       "      <td>4.7</td>\n",
       "      <td>16.7</td>\n",
       "      <td>8.8</td>\n",
       "      <td>0.9</td>\n",
       "      <td>1.1</td>\n",
       "    </tr>\n",
       "    <tr>\n",
       "      <th>2017-12-18</th>\n",
       "      <td>30.0</td>\n",
       "      <td>ALICANTE/ALACANT</td>\n",
       "      <td>0.4</td>\n",
       "      <td>1021.8</td>\n",
       "      <td>1011.5</td>\n",
       "      <td>10.8</td>\n",
       "      <td>16.0</td>\n",
       "      <td>8.8</td>\n",
       "      <td>1.5</td>\n",
       "      <td>1.7</td>\n",
       "    </tr>\n",
       "  </tbody>\n",
       "</table>\n",
       "</div>"
      ],
      "text/plain": [
       "             DIR              NAME  PRECIP    PMAX    PMIN  MAG_MAX  TMAX  \\\n",
       "DATE                                                                        \n",
       "2015-01-18  19.0  ALICANTE/ALACANT     7.0  1012.5   998.5      5.3  14.6   \n",
       "2015-02-07  16.0  ALICANTE/ALACANT     0.0  1012.7  1004.8      5.6  11.6   \n",
       "2015-02-08  18.0  ALICANTE/ALACANT     0.0  1013.3  1009.1      7.8  14.4   \n",
       "2015-02-09   7.0  ALICANTE/ALACANT     0.4  1016.3  1009.9     11.4  13.2   \n",
       "2016-01-17  19.0  ALICANTE/ALACANT     0.0  1019.7  1011.1      5.0  15.0   \n",
       "2017-01-18   7.0  ALICANTE/ALACANT    16.4  1010.1  1007.9      8.9   8.5   \n",
       "2017-12-04  11.0  ALICANTE/ALACANT     0.0  1026.3  1020.1      4.7  15.1   \n",
       "2017-12-05  22.0  ALICANTE/ALACANT     0.0  1027.2  1024.8      4.7  16.7   \n",
       "2017-12-18  30.0  ALICANTE/ALACANT     0.4  1021.8  1011.5     10.8  16.0   \n",
       "\n",
       "            TMED  TMIN  MAG_MED  \n",
       "DATE                             \n",
       "2015-01-18   7.4   0.3      1.4  \n",
       "2015-02-07   6.5   1.4      1.1  \n",
       "2015-02-08   8.0   1.6      1.9  \n",
       "2015-02-09   7.4   1.7      3.3  \n",
       "2016-01-17   8.0   1.0      1.4  \n",
       "2017-01-18   4.6   0.6      1.9  \n",
       "2017-12-04   8.1   1.1      1.4  \n",
       "2017-12-05   8.8   0.9      1.1  \n",
       "2017-12-18   8.8   1.5      1.7  "
      ]
     },
     "execution_count": 27,
     "metadata": {},
     "output_type": "execute_result"
    }
   ],
   "source": [
    "# 0<TMin< 2\n",
    "data[(0<data['TMIN']) & (data['TMIN']< 2)]"
   ]
  },
  {
   "cell_type": "markdown",
   "metadata": {},
   "source": [
    "## Representaciones de datos"
   ]
  },
  {
   "cell_type": "code",
   "execution_count": 29,
   "metadata": {},
   "outputs": [],
   "source": [
    "# Importamos  matplotlib\n",
    "%matplotlib inline\n",
    "import matplotlib.pyplot as plt"
   ]
  },
  {
   "cell_type": "markdown",
   "metadata": {},
   "source": [
    "#### Líneas"
   ]
  },
  {
   "cell_type": "code",
   "execution_count": 30,
   "metadata": {},
   "outputs": [
    {
     "data": {
      "text/plain": [
       "Text(0.5, 1.0, 'Temperaturas')"
      ]
     },
     "execution_count": 30,
     "metadata": {},
     "output_type": "execute_result"
    },
    {
     "data": {
      "image/png": "[encoded data removed]",
      "text/plain": [
       "<Figure size 432x288 with 1 Axes>"
      ]
     },
     "metadata": {
      "needs_background": "light"
     },
     "output_type": "display_data"
    }
   ],
   "source": [
    "# Pintar la temperatura máx, min, med\n",
    "ax = data[[\"TMAX\", \"TMIN\", \"TMED\"]].plot()\n",
    "ax.set_xlabel('DATE')\n",
    "ax.set_title('Temperaturas')"
   ]
  },
  {
   "cell_type": "markdown",
   "metadata": {},
   "source": [
    "Pintar datos para una fecha."
   ]
  },
  {
   "cell_type": "markdown",
   "metadata": {},
   "source": [
    "#### barras"
   ]
  },
  {
   "cell_type": "code",
   "execution_count": 36,
   "metadata": {},
   "outputs": [
    {
     "data": {
      "text/plain": [
       "<matplotlib.axes._subplots.AxesSubplot at 0x7fb98fadeeb8>"
      ]
     },
     "execution_count": 36,
     "metadata": {},
     "output_type": "execute_result"
    },
    {
     "data": {
      "image/png": "[encoded data removed]",
      "text/plain": [
       "<Figure size 432x288 with 1 Axes>"
      ]
     },
     "metadata": {
      "needs_background": "light"
     },
     "output_type": "display_data"
    }
   ],
   "source": [
    "data.iloc[[1,100,20], [6,7,8]].plot(kind='bar', stacked=True)"
   ]
  },
  {
   "cell_type": "code",
   "execution_count": 31,
   "metadata": {},
   "outputs": [],
   "source": [
    "# crear widget\n",
    "from ipywidgets import interact"
   ]
  },
  {
   "cell_type": "code",
   "execution_count": 32,
   "metadata": {},
   "outputs": [
    {
     "data": {
      "text/plain": [
       "(0.3, 38.8)"
      ]
     },
     "execution_count": 32,
     "metadata": {},
     "output_type": "execute_result"
    }
   ],
   "source": [
    "minval = data[[\"TMIN\"]].min().values[0]\n",
    "maxval = data[[\"TMAX\"]].max().values[0]\n",
    "minval, maxval"
   ]
  },
  {
   "cell_type": "code",
   "execution_count": 33,
   "metadata": {},
   "outputs": [],
   "source": [
    "def plot_data(date):\n",
    "    \n",
    "    plt.figure()\n",
    "    plt.plot(data.loc[pd.to_datetime(date), [\"TMAX\", \"TMIN\", \"TMED\"]], marker='o')\n",
    "    plt.ylim([0, 40])\n",
    "    plt.show()"
   ]
  },
  {
   "cell_type": "code",
   "execution_count": 34,
   "metadata": {},
   "outputs": [],
   "source": [
    "data.sort_index(inplace=True)"
   ]
  },
  {
   "cell_type": "code",
   "execution_count": 35,
   "metadata": {},
   "outputs": [
    {
     "data": {
      "application/vnd.jupyter.widget-view+json": {
       "model_id": "75379bf46d264498a4e300853df5bf12",
       "version_major": 2,
       "version_minor": 0
      },
      "text/plain": [
       "interactive(children=(Dropdown(description='date', options=(Timestamp('2015-01-01 00:00:00'), Timestamp('2015-…"
      ]
     },
     "metadata": {},
     "output_type": "display_data"
    },
    {
     "data": {
      "text/plain": [
       "<function __main__.plot_data(date)>"
      ]
     },
     "execution_count": 35,
     "metadata": {},
     "output_type": "execute_result"
    }
   ],
   "source": [
    "interact(plot_data, date=data.index)"
   ]
  },
  {
   "cell_type": "markdown",
   "metadata": {},
   "source": [
    "---\n",
    "\n",
    "Hemos aprendido:\n",
    "* Como leer un CSV con distintos formatos utilizando la librería pandas.\n",
    "* Como extraer información de la librería los datos cargados.\n",
    "* Como acceder a los datos cargados.\n",
    "* Como representar datos con pandas."
   ]
  },
  {
   "cell_type": "markdown",
   "metadata": {},
   "source": [
    "###### Juan Luis Cano, Alejandro Sáez, Mabel Delgado"
   ]
  },
  {
   "cell_type": "code",
   "execution_count": 39,
   "metadata": {},
   "outputs": [
    {
     "data": {
      "text/html": [
       "/* This template is inspired in the one used by Lorena Barba\n",
       "in the numerical-mooc repository: https://github.com/numerical-mooc/numerical-mooc\n",
       "We thank her work and hope you also enjoy the look of the notobooks with this style */\n",
       "\n",
       "<link href='http://fonts.googleapis.com/css?family=Source+Sans+Pro|Josefin+Sans:400,700,400italic|Ubuntu+Condensed' rel='stylesheet' type='text/css'>\n",
       "\n",
       "El estilo se ha aplicado =)\n",
       "\n",
       "<style>\n",
       "\n",
       "\n",
       "\n",
       "#notebook_panel { /* main background */\n",
       "    background: #f7f7f7;\n",
       "}\n",
       "\n",
       "div.cell { /* set cell width */\n",
       "    width: 900px;\n",
       "}\n",
       "\n",
       "div #notebook { /* centre the content */\n",
       "    background: #fff; /* white background for content */\n",
       "    width: 950px;\n",
       "    margin: auto;\n",
       "    padding-left: 0em;\n",
       "}\n",
       "\n",
       "#notebook li { /* More space between bullet points */\n",
       "    margin-top:0.7em;\n",
       "}\n",
       "\n",
       "/* draw border around running cells */\n",
       "div.cell.border-box-sizing.code_cell.running { \n",
       "    border: 1px solid #111;\n",
       "}\n",
       "\n",
       "/* Put a solid color box around each cell and its output, visually linking them*/\n",
       "div.cell.code_cell {\n",
       "    font-family: 'Source Sans Pro', sans-serif;\n",
       "    background-color: rgb(256,256,256);\n",
       "    font-size: 110%;\n",
       "    border-radius: 0px; \n",
       "    padding: 0.5em;\n",
       "    margin-left:1em;\n",
       "    margin-top: 1em;\n",
       "}\n",
       "\n",
       "div.text_cell_render{\n",
       "    font-family: 'Josefin Sans', serif;\n",
       "    line-height: 145%;\n",
       "    font-size: 125%;\n",
       "    font-weight: 500;\n",
       "    width:750px;\n",
       "    margin-left:auto;\n",
       "    margin-right:auto;\n",
       "}\n",
       "\n",
       "\n",
       "/* Formatting for header cells */\n",
       ".text_cell_render h1, .text_cell_render h2, .text_cell_render h3,\n",
       ".text_cell_render h4, .text_cell_render h5 {\n",
       "    font-family: 'Ubuntu Condensed', sans-serif;\n",
       "}\n",
       "/*\n",
       ".text_cell_render h1 {\n",
       "    font-family: Flux, 'Ubuntu Condensed', serif;\n",
       "    font-style:regular;\n",
       "    font-weight: 400;    \n",
       "    font-size: 30pt;\n",
       "    text-align: center;\n",
       "    line-height: 100%;\n",
       "    color: #335082;\n",
       "    margin-bottom: 0.5em;\n",
       "    margin-top: 0.5em;\n",
       "    display: block;\n",
       "}\n",
       "*/\n",
       ".text_cell_render h1 {\n",
       "    font-weight: 600;\n",
       "    font-size: 35pt;\n",
       "    line-height: 100%;\n",
       "    color: #000000;\n",
       "    margin-bottom: 0.1em;\n",
       "    margin-top: 0.3em;\n",
       "    display: block;\n",
       "}\n",
       "\n",
       ".text_cell_render h2 {\n",
       "    margin-top:16px;\n",
       "    font-size: 27pt;\n",
       "    font-weight: 550;\n",
       "    margin-bottom: 0.1em;\n",
       "    margin-top: 0.3em;\n",
       "    font-style: regular;\n",
       "    color: #2c6391;\n",
       "}\t\n",
       "\n",
       ".text_cell_render h3 {\n",
       "    font-size: 20pt;\n",
       "    font-weight: 550\n",
       "    text-align: left;\n",
       "    margin-bottom: 0.1em;\n",
       "    margin-top: 0.3em;\n",
       "    font-style: regular;\n",
       "    color:  #387eb8;\n",
       "}\n",
       "\n",
       ".text_cell_render h4 {    /*Use this for captions*/\n",
       "    font-size: 18pt;\n",
       "    font-weight: 450\n",
       "    text-align: left;\n",
       "    margin-bottom: 0.1em;\n",
       "    margin-top: 0.3em;\n",
       "    font-style: regular;\n",
       "    color:  #5797cc;\n",
       "}\n",
       "\n",
       ".text_cell_render h5 {  /*Use this for small titles*/\n",
       "    font-size: 18pt;\n",
       "    font-weight: 550;\n",
       "    color: rgb(163,0,0);\n",
       "    font-style: italic;\n",
       "    margin-bottom: .1em;\n",
       "    margin-top: 0.8em;\n",
       "    display: block;\n",
       "    color:  #b21c0d;\n",
       "}\n",
       "\n",
       ".text_cell_render h6 { /*use this for copyright note*/\n",
       "    font-family: 'Ubuntu Condensed', sans-serif;\n",
       "    font-weight: 300;\n",
       "    font-size: 14pt;\n",
       "    line-height: 100%;\n",
       "    color: #252525;\n",
       "    text-align: right;\n",
       "    margin-bottom: 1px;\n",
       "    margin-top: 1px;\n",
       "}\n",
       "\n",
       ".CodeMirror{\n",
       "        font-family: 'Duru Sans', sans-serif;\n",
       "        font-size: 100%;\n",
       "}\n",
       "\n",
       "</style>\n",
       "<script>\n",
       "    MathJax.Hub.Config({\n",
       "                        TeX: {\n",
       "                           extensions: [\"AMSmath.js\"],\n",
       "                           equationNumbers: { autoNumber: \"AMS\", useLabelIds: true}\n",
       "                           },\n",
       "                tex2jax: {\n",
       "                    inlineMath: [ ['$','$'], [\"\\\\(\",\"\\\\)\"] ],\n",
       "                    displayMath: [ ['$$','$$'], [\"\\\\[\",\"\\\\]\"] ]\n",
       "                },\n",
       "                displayAlign: 'center', // Change this to 'center' to center equations.\n",
       "                \"HTML-CSS\": {\n",
       "                    styles: {'.MathJax_Display': {\"margin\": 4}}\n",
       "                }\n",
       "        });\n",
       "</script>\n"
      ],
      "text/plain": [
       "<IPython.core.display.HTML object>"
      ]
     },
     "execution_count": 39,
     "metadata": {},
     "output_type": "execute_result"
    }
   ],
   "source": [
    "# Esta celda da el estilo al notebook\n",
    "from IPython.core.display import HTML\n",
    "css_file = '../styles/pyladiesmadrid_notebook.css'\n",
    "HTML(open(css_file, \"r\").read())"
   ]
  },
  {
   "cell_type": "code",
   "execution_count": null,
   "metadata": {},
   "outputs": [],
   "source": []
  }
 ],
 "metadata": {
  "anaconda-cloud": {},
  "kernelspec": {
   "display_name": "Python 3",
   "language": "python",
   "name": "python3"
  },
  "language_info": {
   "codemirror_mode": {
    "name": "ipython",
    "version": 3
   },
   "file_extension": ".py",
   "mimetype": "text/x-python",
   "name": "python",
   "nbconvert_exporter": "python",
   "pygments_lexer": "ipython3",
   "version": "3.7.0"
  }
 },
 "nbformat": 4,
 "nbformat_minor": 1
}
